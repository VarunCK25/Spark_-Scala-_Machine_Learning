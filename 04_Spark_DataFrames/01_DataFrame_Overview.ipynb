{
 "cells": [
  {
   "cell_type": "markdown",
   "metadata": {},
   "source": [
    "# Getting Started with DataFrames!"
   ]
  },
  {
   "cell_type": "markdown",
   "metadata": {},
   "source": [
    " "
   ]
  },
  {
   "cell_type": "markdown",
   "metadata": {},
   "source": [
    "Most Important Link: http://spark.apache.org/docs/latest/api/scala/index.html#org.apache.spark.sql.Dataset"
   ]
  },
  {
   "cell_type": "markdown",
   "metadata": {},
   "source": [
    "### Start a simple Spark Session"
   ]
  },
  {
   "cell_type": "code",
   "execution_count": 3,
   "metadata": {},
   "outputs": [
    {
     "data": {
      "text/plain": [
       "import org.apache.spark.sql.SparkSession\n"
      ]
     },
     "execution_count": 3,
     "metadata": {},
     "output_type": "execute_result"
    }
   ],
   "source": [
    "import org.apache.spark.sql.SparkSession"
   ]
  },
  {
   "cell_type": "code",
   "execution_count": 4,
   "metadata": {},
   "outputs": [
    {
     "data": {
      "text/plain": [
       "spark: org.apache.spark.sql.SparkSession = org.apache.spark.sql.SparkSession@3472f5ad\n"
      ]
     },
     "execution_count": 4,
     "metadata": {},
     "output_type": "execute_result"
    }
   ],
   "source": [
    "val spark = SparkSession.builder().getOrCreate()"
   ]
  },
  {
   "cell_type": "markdown",
   "metadata": {},
   "source": [
    "### Create a DataFrame from Spark Session read csv, technically known as class Dataset"
   ]
  },
  {
   "cell_type": "code",
   "execution_count": 10,
   "metadata": {},
   "outputs": [
    {
     "data": {
      "text/plain": [
       "df: org.apache.spark.sql.DataFrame = [Date: timestamp, Open: double ... 4 more fields]\n"
      ]
     },
     "execution_count": 10,
     "metadata": {},
     "output_type": "execute_result"
    }
   ],
   "source": [
    "val df = spark.read.options(Map((\"header\",\"true\"),(\"inferSchema\",\"true\"))).csv(\"CitiGroup2006_2008\")"
   ]
  },
  {
   "cell_type": "markdown",
   "metadata": {},
   "source": [
    "### Get first 5 rows"
   ]
  },
  {
   "cell_type": "code",
   "execution_count": 12,
   "metadata": {},
   "outputs": [
    {
     "data": {
      "text/plain": [
       "res1: Array[org.apache.spark.sql.Row] = Array([2006-01-03 00:00:00.0,490.0,493.8,481.1,492.9,1537660], [2006-01-04 00:00:00.0,488.6,491.0,483.5,483.8,1871020], [2006-01-05 00:00:00.0,484.4,487.8,484.0,486.2,1143160], [2006-01-06 00:00:00.0,488.8,489.0,482.0,486.2,1370250], [2006-01-09 00:00:00.0,486.0,487.4,483.0,483.9,1680740])\n"
      ]
     },
     "execution_count": 12,
     "metadata": {},
     "output_type": "execute_result"
    }
   ],
   "source": [
    "df.head(5)"
   ]
  },
  {
   "cell_type": "code",
   "execution_count": 14,
   "metadata": {},
   "outputs": [
    {
     "name": "stdout",
     "output_type": "stream",
     "text": [
      "[2006-01-03 00:00:00.0,490.0,493.8,481.1,492.9,1537660]\n",
      "[2006-01-04 00:00:00.0,488.6,491.0,483.5,483.8,1871020]\n",
      "[2006-01-05 00:00:00.0,484.4,487.8,484.0,486.2,1143160]\n",
      "[2006-01-06 00:00:00.0,488.8,489.0,482.0,486.2,1370250]\n",
      "[2006-01-09 00:00:00.0,486.0,487.4,483.0,483.9,1680740]\n",
      "[2006-01-10 00:00:00.0,483.0,485.5,480.8,485.4,1365960]\n",
      "[2006-01-11 00:00:00.0,495.8,495.8,485.8,489.8,1684440]\n",
      "[2006-01-12 00:00:00.0,491.0,491.0,488.8,490.3,1230060]\n",
      "[2006-01-13 00:00:00.0,491.0,491.9,487.3,489.2,940930]\n",
      "[2006-01-17 00:00:00.0,485.1,487.0,482.7,484.3,1237830]\n"
     ]
    }
   ],
   "source": [
    "for (line <- df.head(10)){\n",
    "    println(line)\n",
    "}"
   ]
  },
  {
   "cell_type": "markdown",
   "metadata": {},
   "source": [
    "### Get column names"
   ]
  },
  {
   "cell_type": "code",
   "execution_count": 15,
   "metadata": {},
   "outputs": [
    {
     "data": {
      "text/plain": [
       "res4: Array[String] = Array(Date, Open, High, Low, Close, Volume)\n"
      ]
     },
     "execution_count": 15,
     "metadata": {},
     "output_type": "execute_result"
    }
   ],
   "source": [
    "df.columns"
   ]
  },
  {
   "cell_type": "markdown",
   "metadata": {},
   "source": [
    "### Find out DataTypes"
   ]
  },
  {
   "cell_type": "code",
   "execution_count": 16,
   "metadata": {},
   "outputs": [
    {
     "name": "stdout",
     "output_type": "stream",
     "text": [
      "root\n",
      " |-- Date: timestamp (nullable = true)\n",
      " |-- Open: double (nullable = true)\n",
      " |-- High: double (nullable = true)\n",
      " |-- Low: double (nullable = true)\n",
      " |-- Close: double (nullable = true)\n",
      " |-- Volume: integer (nullable = true)\n",
      "\n"
     ]
    }
   ],
   "source": [
    "df.printSchema"
   ]
  },
  {
   "cell_type": "markdown",
   "metadata": {},
   "source": [
    "### Describe DataFrame Numerical Columns"
   ]
  },
  {
   "cell_type": "code",
   "execution_count": 19,
   "metadata": {},
   "outputs": [
    {
     "name": "stdout",
     "output_type": "stream",
     "text": [
      "+-------+------------------+-----------------+------------------+------------------+-----------------+\n",
      "|summary|              Open|             High|               Low|             Close|           Volume|\n",
      "+-------+------------------+-----------------+------------------+------------------+-----------------+\n",
      "|  count|               755|              755|               755|               755|              755|\n",
      "|   mean| 386.0923178807949|390.6590596026489|380.80170860927143| 385.3421456953643|6308596.382781457|\n",
      "| stddev|149.32301134820133|148.5151130063523|150.53136890891344|149.83310074439177| 8099892.56297633|\n",
      "|    min|              54.4|             55.3|              30.5|              37.7|           632860|\n",
      "|    max|             566.0|            570.0|             555.5|             564.1|        102869289|\n",
      "+-------+------------------+-----------------+------------------+------------------+-----------------+\n",
      "\n"
     ]
    }
   ],
   "source": [
    "df.describe().show()"
   ]
  },
  {
   "cell_type": "markdown",
   "metadata": {},
   "source": [
    "### Select columns .transform().action()"
   ]
  },
  {
   "cell_type": "code",
   "execution_count": 21,
   "metadata": {},
   "outputs": [
    {
     "name": "stdout",
     "output_type": "stream",
     "text": [
      "+-------+\n",
      "| Volume|\n",
      "+-------+\n",
      "|1537660|\n",
      "|1871020|\n",
      "|1143160|\n",
      "|1370250|\n",
      "|1680740|\n",
      "+-------+\n",
      "only showing top 5 rows\n",
      "\n"
     ]
    }
   ],
   "source": [
    "df.select(\"Volume\").show(5)"
   ]
  },
  {
   "cell_type": "markdown",
   "metadata": {},
   "source": [
    "### Multiple Columns"
   ]
  },
  {
   "cell_type": "code",
   "execution_count": 22,
   "metadata": {},
   "outputs": [
    {
     "name": "stdout",
     "output_type": "stream",
     "text": [
      "+-------------------+-----+\n",
      "|               Date|Close|\n",
      "+-------------------+-----+\n",
      "|2006-01-03 00:00:00|492.9|\n",
      "|2006-01-04 00:00:00|483.8|\n",
      "|2006-01-05 00:00:00|486.2|\n",
      "|2006-01-06 00:00:00|486.2|\n",
      "|2006-01-09 00:00:00|483.9|\n",
      "+-------------------+-----+\n",
      "only showing top 5 rows\n",
      "\n"
     ]
    }
   ],
   "source": [
    "df.select(\"Date\",\"Close\").show(5)"
   ]
  },
  {
   "cell_type": "markdown",
   "metadata": {},
   "source": [
    "### Creating New Columns"
   ]
  },
  {
   "cell_type": "code",
   "execution_count": 23,
   "metadata": {},
   "outputs": [
    {
     "data": {
      "text/plain": [
       "df2: org.apache.spark.sql.DataFrame = [Date: timestamp, Open: double ... 5 more fields]\n"
      ]
     },
     "execution_count": 23,
     "metadata": {},
     "output_type": "execute_result"
    }
   ],
   "source": [
    "val df2 = df.withColumn(\"HighPlusLow\", df(\"High\")+df(\"Low\"))"
   ]
  },
  {
   "cell_type": "markdown",
   "metadata": {},
   "source": [
    "### Show result"
   ]
  },
  {
   "cell_type": "code",
   "execution_count": 24,
   "metadata": {},
   "outputs": [
    {
     "data": {
      "text/plain": [
       "res12: Array[String] = Array(Date, Open, High, Low, Close, Volume, HighPlusLow)\n"
      ]
     },
     "execution_count": 24,
     "metadata": {},
     "output_type": "execute_result"
    }
   ],
   "source": [
    "df2.columns"
   ]
  },
  {
   "cell_type": "code",
   "execution_count": 25,
   "metadata": {},
   "outputs": [
    {
     "name": "stdout",
     "output_type": "stream",
     "text": [
      "root\n",
      " |-- Date: timestamp (nullable = true)\n",
      " |-- Open: double (nullable = true)\n",
      " |-- High: double (nullable = true)\n",
      " |-- Low: double (nullable = true)\n",
      " |-- Close: double (nullable = true)\n",
      " |-- Volume: integer (nullable = true)\n",
      " |-- HighPlusLow: double (nullable = true)\n",
      "\n"
     ]
    }
   ],
   "source": [
    "df2.printSchema"
   ]
  },
  {
   "cell_type": "code",
   "execution_count": 26,
   "metadata": {},
   "outputs": [
    {
     "name": "stdout",
     "output_type": "stream",
     "text": [
      "+-------------------+-----+-----+-----+-----+-------+-----------------+\n",
      "|               Date| Open| High|  Low|Close| Volume|      HighPlusLow|\n",
      "+-------------------+-----+-----+-----+-----+-------+-----------------+\n",
      "|2006-01-03 00:00:00|490.0|493.8|481.1|492.9|1537660|974.9000000000001|\n",
      "|2006-01-04 00:00:00|488.6|491.0|483.5|483.8|1871020|            974.5|\n",
      "|2006-01-05 00:00:00|484.4|487.8|484.0|486.2|1143160|            971.8|\n",
      "|2006-01-06 00:00:00|488.8|489.0|482.0|486.2|1370250|            971.0|\n",
      "|2006-01-09 00:00:00|486.0|487.4|483.0|483.9|1680740|            970.4|\n",
      "+-------------------+-----+-----+-----+-----+-------+-----------------+\n",
      "only showing top 5 rows\n",
      "\n"
     ]
    }
   ],
   "source": [
    "df2.show(5)"
   ]
  },
  {
   "cell_type": "markdown",
   "metadata": {},
   "source": [
    "### Recheck Head"
   ]
  },
  {
   "cell_type": "code",
   "execution_count": 27,
   "metadata": {},
   "outputs": [
    {
     "data": {
      "text/plain": [
       "res15: Array[org.apache.spark.sql.Row] = Array([2006-01-03 00:00:00.0,490.0,493.8,481.1,492.9,1537660,974.9000000000001], [2006-01-04 00:00:00.0,488.6,491.0,483.5,483.8,1871020,974.5], [2006-01-05 00:00:00.0,484.4,487.8,484.0,486.2,1143160,971.8], [2006-01-06 00:00:00.0,488.8,489.0,482.0,486.2,1370250,971.0], [2006-01-09 00:00:00.0,486.0,487.4,483.0,483.9,1680740,970.4])\n"
      ]
     },
     "execution_count": 27,
     "metadata": {},
     "output_type": "execute_result"
    }
   ],
   "source": [
    "df2.head(5)"
   ]
  },
  {
   "cell_type": "markdown",
   "metadata": {},
   "source": [
    "### Aliasing Columns (and selecting some more)"
   ]
  },
  {
   "cell_type": "code",
   "execution_count": 31,
   "metadata": {},
   "outputs": [
    {
     "name": "stdout",
     "output_type": "stream",
     "text": [
      "+-----------------+-----+\n",
      "|              HPL|Close|\n",
      "+-----------------+-----+\n",
      "|974.9000000000001|492.9|\n",
      "|            974.5|483.8|\n",
      "|            971.8|486.2|\n",
      "|            971.0|486.2|\n",
      "|            970.4|483.9|\n",
      "+-----------------+-----+\n",
      "only showing top 5 rows\n",
      "\n"
     ]
    }
   ],
   "source": [
    "df2.select(df2(\"HighPlusLow\").as(\"HPL\"),df2(\"Close\")).show(5)"
   ]
  },
  {
   "cell_type": "markdown",
   "metadata": {},
   "source": [
    "## Thank You!"
   ]
  }
 ],
 "metadata": {
  "kernelspec": {
   "display_name": "spylon-kernel",
   "language": "scala",
   "name": "spylon-kernel"
  },
  "language_info": {
   "codemirror_mode": "text/x-scala",
   "file_extension": ".scala",
   "help_links": [
    {
     "text": "MetaKernel Magics",
     "url": "https://metakernel.readthedocs.io/en/latest/source/README.html"
    }
   ],
   "mimetype": "text/x-scala",
   "name": "scala",
   "pygments_lexer": "scala",
   "version": "0.4.1"
  }
 },
 "nbformat": 4,
 "nbformat_minor": 2
}
