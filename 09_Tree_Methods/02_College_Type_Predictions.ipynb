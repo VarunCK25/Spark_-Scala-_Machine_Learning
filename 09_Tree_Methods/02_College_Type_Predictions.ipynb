{
 "cells": [
  {
   "cell_type": "markdown",
   "metadata": {},
   "source": [
    "# College Type Predictions"
   ]
  },
  {
   "cell_type": "markdown",
   "metadata": {},
   "source": [
    " "
   ]
  },
  {
   "cell_type": "markdown",
   "metadata": {},
   "source": [
    "**Prediction to try to classify colleges as Private or Public based off these features:**\n",
    "\n",
    "- `Private` A factor with levels No and Yes indicating private or public university\n",
    "- `Apps` Number of applications received\n",
    "- `Accept` Number of applications accepted\n",
    "- `Enroll` Number of new students enrolled\n",
    "- `Top10perc` Pct. new students from top 10% of H.S. class\n",
    "- `Top25perc` Pct. new students from top 25% of H.S. class\n",
    "- `F.Undergrad` Number of fulltime undergraduates\n",
    "- `P.Undergrad` Number of parttime undergraduates\n",
    "- `Outstate` Out-of-state tuition\n",
    "- `Room.`Board Room and board costs\n",
    "- `Books` Estimated book costs\n",
    "- `Personal Estimated` personal spending\n",
    "- `PhD` Pct. of faculty with Ph.D.’s\n",
    "- `Terminal` Pct. of faculty with terminal degree\n",
    "- `S.F.Ratio` Student/faculty ratio\n",
    "- `perc.alumni` Pct. alumni who donate\n",
    "- `Expend Instructional` expenditure per student\n",
    "- `Grad.Rate` Graduation rate"
   ]
  },
  {
   "cell_type": "markdown",
   "metadata": {},
   "source": [
    "### Initialize and create a spark session"
   ]
  },
  {
   "cell_type": "code",
   "execution_count": 1,
   "metadata": {},
   "outputs": [
    {
     "data": {
      "text/plain": [
       "Intitializing Scala interpreter ..."
      ]
     },
     "metadata": {},
     "output_type": "display_data"
    },
    {
     "data": {
      "text/plain": [
       "Spark Web UI available at http://Varun-CK:4040\n",
       "SparkContext available as 'sc' (version = 2.3.0, master = local[*], app id = local-1577772468360)\n",
       "SparkSession available as 'spark'\n"
      ]
     },
     "metadata": {},
     "output_type": "display_data"
    },
    {
     "name": "stdout",
     "output_type": "stream",
     "text": [
      "2019-12-31 11:38:04 WARN  SparkContext:66 - Using an existing SparkContext; some configuration may not take effect.\r\n"
     ]
    },
    {
     "data": {
      "text/plain": [
       "import org.apache.spark.sql.SparkSession\r\n",
       "spark: org.apache.spark.sql.SparkSession = org.apache.spark.sql.SparkSession@3a277130\n"
      ]
     },
     "execution_count": 1,
     "metadata": {},
     "output_type": "execute_result"
    }
   ],
   "source": [
    "import org.apache.spark.sql.SparkSession\n",
    "val spark = SparkSession.builder().appName(\"college\").getOrCreate()"
   ]
  },
  {
   "cell_type": "markdown",
   "metadata": {},
   "source": [
    "### Initializing Logger"
   ]
  },
  {
   "cell_type": "code",
   "execution_count": 2,
   "metadata": {},
   "outputs": [
    {
     "data": {
      "text/plain": [
       "import org.apache.log4j._\n"
      ]
     },
     "execution_count": 2,
     "metadata": {},
     "output_type": "execute_result"
    }
   ],
   "source": [
    "import org.apache.log4j._\n",
    "Logger.getLogger(\"org\").setLevel(Level.ERROR)"
   ]
  },
  {
   "cell_type": "markdown",
   "metadata": {},
   "source": [
    "### Using Spark to read the college data set"
   ]
  },
  {
   "cell_type": "code",
   "execution_count": 3,
   "metadata": {},
   "outputs": [
    {
     "data": {
      "text/plain": [
       "data: org.apache.spark.sql.DataFrame = [School: string, Private: string ... 17 more fields]\n"
      ]
     },
     "execution_count": 3,
     "metadata": {},
     "output_type": "execute_result"
    }
   ],
   "source": [
    "val data = spark.read.options(Map((\"header\",\"true\"),(\"inferSchema\",\"true\"))).csv(\"College.csv\")"
   ]
  },
  {
   "cell_type": "markdown",
   "metadata": {},
   "source": [
    "### Count"
   ]
  },
  {
   "cell_type": "code",
   "execution_count": 4,
   "metadata": {},
   "outputs": [
    {
     "data": {
      "text/plain": [
       "res1: Long = 777\n"
      ]
     },
     "execution_count": 4,
     "metadata": {},
     "output_type": "execute_result"
    }
   ],
   "source": [
    "data.count"
   ]
  },
  {
   "cell_type": "markdown",
   "metadata": {},
   "source": [
    "### Schema"
   ]
  },
  {
   "cell_type": "code",
   "execution_count": 5,
   "metadata": {},
   "outputs": [
    {
     "name": "stdout",
     "output_type": "stream",
     "text": [
      "root\n",
      " |-- School: string (nullable = true)\n",
      " |-- Private: string (nullable = true)\n",
      " |-- Apps: integer (nullable = true)\n",
      " |-- Accept: integer (nullable = true)\n",
      " |-- Enroll: integer (nullable = true)\n",
      " |-- Top10perc: integer (nullable = true)\n",
      " |-- Top25perc: integer (nullable = true)\n",
      " |-- F_Undergrad: integer (nullable = true)\n",
      " |-- P_Undergrad: integer (nullable = true)\n",
      " |-- Outstate: integer (nullable = true)\n",
      " |-- Room_Board: integer (nullable = true)\n",
      " |-- Books: integer (nullable = true)\n",
      " |-- Personal: integer (nullable = true)\n",
      " |-- PhD: integer (nullable = true)\n",
      " |-- Terminal: integer (nullable = true)\n",
      " |-- S_F_Ratio: double (nullable = true)\n",
      " |-- perc_alumni: integer (nullable = true)\n",
      " |-- Expend: integer (nullable = true)\n",
      " |-- Grad_Rate: integer (nullable = true)\n",
      "\n"
     ]
    }
   ],
   "source": [
    "data.printSchema"
   ]
  },
  {
   "cell_type": "markdown",
   "metadata": {},
   "source": [
    "### show"
   ]
  },
  {
   "cell_type": "code",
   "execution_count": 6,
   "metadata": {},
   "outputs": [
    {
     "name": "stdout",
     "output_type": "stream",
     "text": [
      "+--------------------+-------+----+------+------+---------+---------+-----------+-----------+--------+----------+-----+--------+---+--------+---------+-----------+------+---------+\n",
      "|              School|Private|Apps|Accept|Enroll|Top10perc|Top25perc|F_Undergrad|P_Undergrad|Outstate|Room_Board|Books|Personal|PhD|Terminal|S_F_Ratio|perc_alumni|Expend|Grad_Rate|\n",
      "+--------------------+-------+----+------+------+---------+---------+-----------+-----------+--------+----------+-----+--------+---+--------+---------+-----------+------+---------+\n",
      "|Abilene Christian...|    Yes|1660|  1232|   721|       23|       52|       2885|        537|    7440|      3300|  450|    2200| 70|      78|     18.1|         12|  7041|       60|\n",
      "|  Adelphi University|    Yes|2186|  1924|   512|       16|       29|       2683|       1227|   12280|      6450|  750|    1500| 29|      30|     12.2|         16| 10527|       56|\n",
      "|      Adrian College|    Yes|1428|  1097|   336|       22|       50|       1036|         99|   11250|      3750|  400|    1165| 53|      66|     12.9|         30|  8735|       54|\n",
      "+--------------------+-------+----+------+------+---------+---------+-----------+-----------+--------+----------+-----+--------+---+--------+---------+-----------+------+---------+\n",
      "only showing top 3 rows\n",
      "\n"
     ]
    }
   ],
   "source": [
    "data.show(3)"
   ]
  },
  {
   "cell_type": "markdown",
   "metadata": {},
   "source": [
    "### First Row of Dataframe"
   ]
  },
  {
   "cell_type": "code",
   "execution_count": 7,
   "metadata": {},
   "outputs": [
    {
     "data": {
      "text/plain": [
       "colnames: Array[String] = Array(School, Private, Apps, Accept, Enroll, Top10perc, Top25perc, F_Undergrad, P_Undergrad, Outstate, Room_Board, Books, Personal, PhD, Terminal, S_F_Ratio, perc_alumni, Expend, Grad_Rate)\r\n",
       "firstRow: org.apache.spark.sql.Row = [Abilene Christian University,Yes,1660,1232,721,23,52,2885,537,7440,3300,450,2200,70,78,18.1,12,7041,60]\n"
      ]
     },
     "execution_count": 7,
     "metadata": {},
     "output_type": "execute_result"
    }
   ],
   "source": [
    "val colnames = data.columns\n",
    "val firstRow = data.head(1)(0)"
   ]
  },
  {
   "cell_type": "code",
   "execution_count": 11,
   "metadata": {},
   "outputs": [
    {
     "name": "stdout",
     "output_type": "stream",
     "text": [
      "Column Name: School\n",
      "Column Value: Abilene Christian University\n",
      "\n",
      "Column Name: Private\n",
      "Column Value: Yes\n",
      "\n",
      "Column Name: Apps\n",
      "Column Value: 1660\n",
      "\n",
      "Column Name: Accept\n",
      "Column Value: 1232\n",
      "\n",
      "Column Name: Enroll\n",
      "Column Value: 721\n",
      "\n",
      "Column Name: Top10perc\n",
      "Column Value: 23\n",
      "\n",
      "Column Name: Top25perc\n",
      "Column Value: 52\n",
      "\n",
      "Column Name: F_Undergrad\n",
      "Column Value: 2885\n",
      "\n",
      "Column Name: P_Undergrad\n",
      "Column Value: 537\n",
      "\n",
      "Column Name: Outstate\n",
      "Column Value: 7440\n",
      "\n",
      "Column Name: Room_Board\n",
      "Column Value: 3300\n",
      "\n",
      "Column Name: Books\n",
      "Column Value: 450\n",
      "\n",
      "Column Name: Personal\n",
      "Column Value: 2200\n",
      "\n",
      "Column Name: PhD\n",
      "Column Value: 70\n",
      "\n",
      "Column Name: Terminal\n",
      "Column Value: 78\n",
      "\n",
      "Column Name: S_F_Ratio\n",
      "Column Value: 18.1\n",
      "\n",
      "Column Name: perc_alumni\n",
      "Column Value: 12\n",
      "\n",
      "Column Name: Expend\n",
      "Column Value: 7041\n",
      "\n",
      "Column Name: Grad_Rate\n",
      "Column Value: 60\n",
      "\n"
     ]
    }
   ],
   "source": [
    "for(i <- Range(0,colnames.size)){\n",
    "    println(s\"Column Name: ${colnames(i)}\")\n",
    "    println(s\"Column Value: ${firstRow(i)}\")\n",
    "    println()\n",
    "}"
   ]
  },
  {
   "cell_type": "markdown",
   "metadata": {},
   "source": [
    "## Formating the Data"
   ]
  },
  {
   "cell_type": "markdown",
   "metadata": {},
   "source": [
    " few things we need to do before Spark can accept the data! \n",
    " \n",
    " It needs to be in the form of two columns:\n",
    "  `(\"label\",\"features\")`"
   ]
  },
  {
   "cell_type": "markdown",
   "metadata": {},
   "source": [
    "### Importing VectorAssembler and Vectors"
   ]
  },
  {
   "cell_type": "code",
   "execution_count": 12,
   "metadata": {},
   "outputs": [
    {
     "data": {
      "text/plain": [
       "import org.apache.spark.ml.feature.VectorAssembler\r\n",
       "import org.apache.spark.ml.linalg.Vectors\n"
      ]
     },
     "execution_count": 12,
     "metadata": {},
     "output_type": "execute_result"
    }
   ],
   "source": [
    "import org.apache.spark.ml.feature.VectorAssembler\n",
    "import org.apache.spark.ml.linalg.Vectors"
   ]
  },
  {
   "cell_type": "markdown",
   "metadata": {},
   "source": [
    "### Assembling all the dependant features to a single vector column \"features\""
   ]
  },
  {
   "cell_type": "code",
   "execution_count": 13,
   "metadata": {},
   "outputs": [
    {
     "data": {
      "text/plain": [
       "res8: Array[String] = Array(School, Private, Apps, Accept, Enroll, Top10perc, Top25perc, F_Undergrad, P_Undergrad, Outstate, Room_Board, Books, Personal, PhD, Terminal, S_F_Ratio, perc_alumni, Expend, Grad_Rate)\n"
      ]
     },
     "execution_count": 13,
     "metadata": {},
     "output_type": "execute_result"
    }
   ],
   "source": [
    "data.columns"
   ]
  },
  {
   "cell_type": "code",
   "execution_count": 15,
   "metadata": {},
   "outputs": [
    {
     "data": {
      "text/plain": [
       "assembler: org.apache.spark.ml.feature.VectorAssembler = vecAssembler_66e9bbb242bc\n"
      ]
     },
     "execution_count": 15,
     "metadata": {},
     "output_type": "execute_result"
    }
   ],
   "source": [
    "//Ignoring school column since it is a string and not much of use\n",
    "val assembler = new VectorAssembler().setInputCols(Array(\"Apps\", \"Accept\", \"Enroll\", \"Top10perc\", \"Top25perc\", \"F_Undergrad\"\n",
    "                                                         , \"P_Undergrad\", \"Outstate\", \"Room_Board\", \"Books\", \"Personal\", \"PhD\"\n",
    "                                                         , \"Terminal\", \"S_F_Ratio\", \"perc_alumni\", \"Expend\", \"Grad_Rate\"))\n",
    "                                     .setOutputCol(\"features\")"
   ]
  },
  {
   "cell_type": "code",
   "execution_count": 16,
   "metadata": {},
   "outputs": [
    {
     "data": {
      "text/plain": [
       "output: org.apache.spark.sql.DataFrame = [School: string, Private: string ... 18 more fields]\n"
      ]
     },
     "execution_count": 16,
     "metadata": {},
     "output_type": "execute_result"
    }
   ],
   "source": [
    "val output = assembler.transform(data)"
   ]
  },
  {
   "cell_type": "code",
   "execution_count": 17,
   "metadata": {},
   "outputs": [
    {
     "name": "stdout",
     "output_type": "stream",
     "text": [
      "root\n",
      " |-- School: string (nullable = true)\n",
      " |-- Private: string (nullable = true)\n",
      " |-- Apps: integer (nullable = true)\n",
      " |-- Accept: integer (nullable = true)\n",
      " |-- Enroll: integer (nullable = true)\n",
      " |-- Top10perc: integer (nullable = true)\n",
      " |-- Top25perc: integer (nullable = true)\n",
      " |-- F_Undergrad: integer (nullable = true)\n",
      " |-- P_Undergrad: integer (nullable = true)\n",
      " |-- Outstate: integer (nullable = true)\n",
      " |-- Room_Board: integer (nullable = true)\n",
      " |-- Books: integer (nullable = true)\n",
      " |-- Personal: integer (nullable = true)\n",
      " |-- PhD: integer (nullable = true)\n",
      " |-- Terminal: integer (nullable = true)\n",
      " |-- S_F_Ratio: double (nullable = true)\n",
      " |-- perc_alumni: integer (nullable = true)\n",
      " |-- Expend: integer (nullable = true)\n",
      " |-- Grad_Rate: integer (nullable = true)\n",
      " |-- features: vector (nullable = true)\n",
      "\n"
     ]
    }
   ],
   "source": [
    "output.printSchema"
   ]
  },
  {
   "cell_type": "markdown",
   "metadata": {},
   "source": [
    "## Since the input label \"Private\" is a string categorical column, it needs to be converted to Numerical type"
   ]
  },
  {
   "cell_type": "markdown",
   "metadata": {},
   "source": [
    "### Using String Indexer to convert string categorical column to numerical type"
   ]
  },
  {
   "cell_type": "code",
   "execution_count": 18,
   "metadata": {},
   "outputs": [
    {
     "data": {
      "text/plain": [
       "import org.apache.spark.ml.feature.StringIndexer\n"
      ]
     },
     "execution_count": 18,
     "metadata": {},
     "output_type": "execute_result"
    }
   ],
   "source": [
    "import org.apache.spark.ml.feature.StringIndexer"
   ]
  },
  {
   "cell_type": "code",
   "execution_count": 19,
   "metadata": {},
   "outputs": [
    {
     "data": {
      "text/plain": [
       "indexer: org.apache.spark.ml.feature.StringIndexer = strIdx_e0b3dac7e70d\n"
      ]
     },
     "execution_count": 19,
     "metadata": {},
     "output_type": "execute_result"
    }
   ],
   "source": [
    "val indexer = new StringIndexer().setInputCol(\"Private\").setOutputCol(\"PrivateInd\")"
   ]
  },
  {
   "cell_type": "code",
   "execution_count": 20,
   "metadata": {},
   "outputs": [
    {
     "data": {
      "text/plain": [
       "indexed_model: org.apache.spark.ml.feature.StringIndexerModel = strIdx_e0b3dac7e70d\n"
      ]
     },
     "execution_count": 20,
     "metadata": {},
     "output_type": "execute_result"
    }
   ],
   "source": [
    "val indexed_model = indexer.fit(output)"
   ]
  },
  {
   "cell_type": "code",
   "execution_count": 21,
   "metadata": {},
   "outputs": [
    {
     "data": {
      "text/plain": [
       "fixed_output: org.apache.spark.sql.DataFrame = [School: string, Private: string ... 19 more fields]\n"
      ]
     },
     "execution_count": 21,
     "metadata": {},
     "output_type": "execute_result"
    }
   ],
   "source": [
    "val fixed_output = indexed_model.transform(output)"
   ]
  },
  {
   "cell_type": "code",
   "execution_count": 22,
   "metadata": {},
   "outputs": [
    {
     "name": "stdout",
     "output_type": "stream",
     "text": [
      "root\n",
      " |-- School: string (nullable = true)\n",
      " |-- Private: string (nullable = true)\n",
      " |-- Apps: integer (nullable = true)\n",
      " |-- Accept: integer (nullable = true)\n",
      " |-- Enroll: integer (nullable = true)\n",
      " |-- Top10perc: integer (nullable = true)\n",
      " |-- Top25perc: integer (nullable = true)\n",
      " |-- F_Undergrad: integer (nullable = true)\n",
      " |-- P_Undergrad: integer (nullable = true)\n",
      " |-- Outstate: integer (nullable = true)\n",
      " |-- Room_Board: integer (nullable = true)\n",
      " |-- Books: integer (nullable = true)\n",
      " |-- Personal: integer (nullable = true)\n",
      " |-- PhD: integer (nullable = true)\n",
      " |-- Terminal: integer (nullable = true)\n",
      " |-- S_F_Ratio: double (nullable = true)\n",
      " |-- perc_alumni: integer (nullable = true)\n",
      " |-- Expend: integer (nullable = true)\n",
      " |-- Grad_Rate: integer (nullable = true)\n",
      " |-- features: vector (nullable = true)\n",
      " |-- PrivateInd: double (nullable = false)\n",
      "\n"
     ]
    }
   ],
   "source": [
    "fixed_output.printSchema"
   ]
  },
  {
   "cell_type": "code",
   "execution_count": 23,
   "metadata": {},
   "outputs": [
    {
     "data": {
      "text/plain": [
       "final_data: org.apache.spark.sql.DataFrame = [PrivateInd: double, features: vector]\n"
      ]
     },
     "execution_count": 23,
     "metadata": {},
     "output_type": "execute_result"
    }
   ],
   "source": [
    "val final_data = fixed_output.select(\"PrivateInd\",\"features\")"
   ]
  },
  {
   "cell_type": "code",
   "execution_count": 25,
   "metadata": {},
   "outputs": [
    {
     "name": "stdout",
     "output_type": "stream",
     "text": [
      "+----------+----------------------------------------------------------------------------------------------------------+\n",
      "|PrivateInd|features                                                                                                  |\n",
      "+----------+----------------------------------------------------------------------------------------------------------+\n",
      "|0.0       |[1660.0,1232.0,721.0,23.0,52.0,2885.0,537.0,7440.0,3300.0,450.0,2200.0,70.0,78.0,18.1,12.0,7041.0,60.0]   |\n",
      "|0.0       |[2186.0,1924.0,512.0,16.0,29.0,2683.0,1227.0,12280.0,6450.0,750.0,1500.0,29.0,30.0,12.2,16.0,10527.0,56.0]|\n",
      "|0.0       |[1428.0,1097.0,336.0,22.0,50.0,1036.0,99.0,11250.0,3750.0,400.0,1165.0,53.0,66.0,12.9,30.0,8735.0,54.0]   |\n",
      "|0.0       |[417.0,349.0,137.0,60.0,89.0,510.0,63.0,12960.0,5450.0,450.0,875.0,92.0,97.0,7.7,37.0,19016.0,59.0]       |\n",
      "|0.0       |[193.0,146.0,55.0,16.0,44.0,249.0,869.0,7560.0,4120.0,800.0,1500.0,76.0,72.0,11.9,2.0,10922.0,15.0]       |\n",
      "+----------+----------------------------------------------------------------------------------------------------------+\n",
      "only showing top 5 rows\n",
      "\n"
     ]
    }
   ],
   "source": [
    "final_data.show(5,false)"
   ]
  },
  {
   "cell_type": "markdown",
   "metadata": {},
   "source": [
    "### Splitting the resultant data into training data and testing data, Training data is to train the model, Testing data is to test the builted model"
   ]
  },
  {
   "cell_type": "code",
   "execution_count": 26,
   "metadata": {},
   "outputs": [
    {
     "data": {
      "text/plain": [
       "train_data: org.apache.spark.sql.Dataset[org.apache.spark.sql.Row] = [PrivateInd: double, features: vector]\r\n",
       "test_data: org.apache.spark.sql.Dataset[org.apache.spark.sql.Row] = [PrivateInd: double, features: vector]\n"
      ]
     },
     "execution_count": 26,
     "metadata": {},
     "output_type": "execute_result"
    }
   ],
   "source": [
    "val Array(train_data,test_data) = final_data.randomSplit(Array(0.7,0.3))"
   ]
  },
  {
   "cell_type": "code",
   "execution_count": 30,
   "metadata": {},
   "outputs": [
    {
     "data": {
      "text/plain": [
       "res16: Long = 777\n"
      ]
     },
     "execution_count": 30,
     "metadata": {},
     "output_type": "execute_result"
    }
   ],
   "source": [
    "final_data.count()"
   ]
  },
  {
   "cell_type": "code",
   "execution_count": 31,
   "metadata": {},
   "outputs": [
    {
     "data": {
      "text/plain": [
       "res17: Long = 528\n"
      ]
     },
     "execution_count": 31,
     "metadata": {},
     "output_type": "execute_result"
    }
   ],
   "source": [
    "train_data.count()"
   ]
  },
  {
   "cell_type": "code",
   "execution_count": 32,
   "metadata": {},
   "outputs": [
    {
     "data": {
      "text/plain": [
       "res18: Long = 249\n"
      ]
     },
     "execution_count": 32,
     "metadata": {},
     "output_type": "execute_result"
    }
   ],
   "source": [
    "test_data.count()"
   ]
  },
  {
   "cell_type": "markdown",
   "metadata": {},
   "source": [
    "### Setting up the Tree Classifier Models"
   ]
  },
  {
   "cell_type": "code",
   "execution_count": 33,
   "metadata": {},
   "outputs": [
    {
     "data": {
      "text/plain": [
       "import org.apache.spark.ml.classification.{DecisionTreeClassifier, RandomForestClassifier, GBTClassifier}\n"
      ]
     },
     "execution_count": 33,
     "metadata": {},
     "output_type": "execute_result"
    }
   ],
   "source": [
    "import org.apache.spark.ml.classification.{DecisionTreeClassifier,RandomForestClassifier,GBTClassifier}"
   ]
  },
  {
   "cell_type": "markdown",
   "metadata": {},
   "source": [
    "#### Creating all three models:"
   ]
  },
  {
   "cell_type": "code",
   "execution_count": 34,
   "metadata": {},
   "outputs": [
    {
     "data": {
      "text/plain": [
       "dtc: org.apache.spark.ml.classification.DecisionTreeClassifier = dtc_386de2f591e4\r\n",
       "rfc: org.apache.spark.ml.classification.RandomForestClassifier = rfc_4e4d45bbf1eb\r\n",
       "gbt: org.apache.spark.ml.classification.GBTClassifier = gbtc_31364d7d1dcf\n"
      ]
     },
     "execution_count": 34,
     "metadata": {},
     "output_type": "execute_result"
    }
   ],
   "source": [
    "val dtc = new DecisionTreeClassifier().setLabelCol(\"PrivateInd\").setFeaturesCol(\"features\")\n",
    "val rfc = new RandomForestClassifier().setLabelCol(\"PrivateInd\").setFeaturesCol(\"features\")\n",
    "val gbt = new GBTClassifier().setLabelCol(\"PrivateInd\").setFeaturesCol(\"features\")"
   ]
  },
  {
   "cell_type": "markdown",
   "metadata": {},
   "source": [
    "### Training all three models:"
   ]
  },
  {
   "cell_type": "code",
   "execution_count": 35,
   "metadata": {},
   "outputs": [
    {
     "data": {
      "text/plain": [
       "dtc_model: org.apache.spark.ml.classification.DecisionTreeClassificationModel = DecisionTreeClassificationModel (uid=dtc_386de2f591e4) of depth 5 with 49 nodes\r\n",
       "rfc_model: org.apache.spark.ml.classification.RandomForestClassificationModel = RandomForestClassificationModel (uid=rfc_4e4d45bbf1eb) with 20 trees\r\n",
       "gbt_model: org.apache.spark.ml.classification.GBTClassificationModel = GBTClassificationModel (uid=gbtc_31364d7d1dcf) with 20 trees\n"
      ]
     },
     "execution_count": 35,
     "metadata": {},
     "output_type": "execute_result"
    }
   ],
   "source": [
    "val dtc_model = dtc.fit(train_data)\n",
    "val rfc_model = rfc.fit(train_data)\n",
    "val gbt_model = gbt.fit(train_data)"
   ]
  },
  {
   "cell_type": "markdown",
   "metadata": {},
   "source": [
    "### Getting the results of all 3 models on a test dataset"
   ]
  },
  {
   "cell_type": "code",
   "execution_count": 36,
   "metadata": {},
   "outputs": [
    {
     "data": {
      "text/plain": [
       "dtc_predictions: org.apache.spark.sql.DataFrame = [PrivateInd: double, features: vector ... 3 more fields]\r\n",
       "rfc_predictions: org.apache.spark.sql.DataFrame = [PrivateInd: double, features: vector ... 3 more fields]\r\n",
       "gbt_predictions: org.apache.spark.sql.DataFrame = [PrivateInd: double, features: vector ... 3 more fields]\n"
      ]
     },
     "execution_count": 36,
     "metadata": {},
     "output_type": "execute_result"
    }
   ],
   "source": [
    "val dtc_predictions = dtc_model.transform(test_data)\n",
    "val rfc_predictions = rfc_model.transform(test_data)\n",
    "val gbt_predictions = gbt_model.transform(test_data)"
   ]
  },
  {
   "cell_type": "code",
   "execution_count": 37,
   "metadata": {},
   "outputs": [
    {
     "name": "stdout",
     "output_type": "stream",
     "text": [
      "+----------+--------------------+-------------+-----------+----------+\n",
      "|PrivateInd|            features|rawPrediction|probability|prediction|\n",
      "+----------+--------------------+-------------+-----------+----------+\n",
      "|       0.0|[100.0,90.0,35.0,...|  [223.0,0.0]|  [1.0,0.0]|       0.0|\n",
      "|       0.0|[141.0,118.0,55.0...|  [223.0,0.0]|  [1.0,0.0]|       0.0|\n",
      "|       0.0|[174.0,146.0,88.0...|  [223.0,0.0]|  [1.0,0.0]|       0.0|\n",
      "+----------+--------------------+-------------+-----------+----------+\n",
      "only showing top 3 rows\n",
      "\n"
     ]
    }
   ],
   "source": [
    "dtc_predictions.show(3)"
   ]
  },
  {
   "cell_type": "code",
   "execution_count": 38,
   "metadata": {},
   "outputs": [
    {
     "name": "stdout",
     "output_type": "stream",
     "text": [
      "+----------+--------------------+--------------------+--------------------+----------+\n",
      "|PrivateInd|            features|       rawPrediction|         probability|prediction|\n",
      "+----------+--------------------+--------------------+--------------------+----------+\n",
      "|       0.0|[100.0,90.0,35.0,...|[17.2117296389425...|[0.86058648194712...|       0.0|\n",
      "|       0.0|[141.0,118.0,55.0...|[16.9513206143356...|[0.84756603071678...|       0.0|\n",
      "|       0.0|[174.0,146.0,88.0...|[17.7267202786947...|[0.88633601393473...|       0.0|\n",
      "+----------+--------------------+--------------------+--------------------+----------+\n",
      "only showing top 3 rows\n",
      "\n"
     ]
    }
   ],
   "source": [
    "rfc_predictions.show(3)"
   ]
  },
  {
   "cell_type": "code",
   "execution_count": 39,
   "metadata": {},
   "outputs": [
    {
     "name": "stdout",
     "output_type": "stream",
     "text": [
      "2019-12-31 12:02:06 WARN  BLAS:61 - Failed to load implementation from: com.github.fommil.netlib.NativeSystemBLAS\n",
      "2019-12-31 12:02:06 WARN  BLAS:61 - Failed to load implementation from: com.github.fommil.netlib.NativeRefBLAS\n",
      "+----------+--------------------+--------------------+--------------------+----------+\n",
      "|PrivateInd|            features|       rawPrediction|         probability|prediction|\n",
      "+----------+--------------------+--------------------+--------------------+----------+\n",
      "|       0.0|[100.0,90.0,35.0,...|[1.45519847123029...|[0.94835800828938...|       0.0|\n",
      "|       0.0|[141.0,118.0,55.0...|[1.55287067245585...|[0.95712894965148...|       0.0|\n",
      "|       0.0|[174.0,146.0,88.0...|[1.54383079619313...|[0.95638091900386...|       0.0|\n",
      "+----------+--------------------+--------------------+--------------------+----------+\n",
      "only showing top 3 rows\n",
      "\n"
     ]
    }
   ],
   "source": [
    "gbt_predictions.show(3)"
   ]
  },
  {
   "cell_type": "markdown",
   "metadata": {},
   "source": [
    "### Evaluating the models using MulticlassClassificationEvaluator"
   ]
  },
  {
   "cell_type": "code",
   "execution_count": 40,
   "metadata": {},
   "outputs": [
    {
     "data": {
      "text/plain": [
       "import org.apache.spark.ml.evaluation.MulticlassClassificationEvaluator\n"
      ]
     },
     "execution_count": 40,
     "metadata": {},
     "output_type": "execute_result"
    }
   ],
   "source": [
    "import org.apache.spark.ml.evaluation.MulticlassClassificationEvaluator"
   ]
  },
  {
   "cell_type": "code",
   "execution_count": 41,
   "metadata": {},
   "outputs": [
    {
     "data": {
      "text/plain": [
       "acc_evaluator: org.apache.spark.ml.evaluation.MulticlassClassificationEvaluator = mcEval_a4ff4c7f1799\n"
      ]
     },
     "execution_count": 41,
     "metadata": {},
     "output_type": "execute_result"
    }
   ],
   "source": [
    "val acc_evaluator = new MulticlassClassificationEvaluator().setLabelCol(\"PrivateInd\").setPredictionCol(\"prediction\").setMetricName(\"accuracy\")"
   ]
  },
  {
   "cell_type": "code",
   "execution_count": 42,
   "metadata": {},
   "outputs": [
    {
     "data": {
      "text/plain": [
       "dtc_accuracy: Double = 0.8995983935742972\r\n",
       "rfc_accuracy: Double = 0.927710843373494\r\n",
       "gbt_accuracy: Double = 0.8955823293172691\n"
      ]
     },
     "execution_count": 42,
     "metadata": {},
     "output_type": "execute_result"
    }
   ],
   "source": [
    "val dtc_accuracy = acc_evaluator.evaluate(dtc_predictions)\n",
    "val rfc_accuracy = acc_evaluator.evaluate(rfc_predictions)\n",
    "val gbt_accuracy = acc_evaluator.evaluate(gbt_predictions)"
   ]
  },
  {
   "cell_type": "code",
   "execution_count": 44,
   "metadata": {},
   "outputs": [
    {
     "name": "stdout",
     "output_type": "stream",
     "text": [
      "Here are the results!\n",
      "--------------------------------------------------------------------------------\n",
      "A single decision tree had an accuracy of: 89.96\n",
      "--------------------------------------------------------------------------------\n",
      "A random forest ensemble had an accuracy of: 92.77\n",
      "--------------------------------------------------------------------------------\n",
      "A nsemble using GBT had an accuracy of: 89.56\n"
     ]
    }
   ],
   "source": [
    "println(\"Here are the results!\")\n",
    "println(\"-\"*80)\n",
    "println(f\"A single decision tree had an accuracy of: ${dtc_accuracy*100}%1.2f\")\n",
    "println(\"-\"*80)\n",
    "println(f\"A random forest ensemble had an accuracy of: ${rfc_accuracy*100}%1.2f\")\n",
    "println(\"-\"*80)\n",
    "println(f\"A nsemble using GBT had an accuracy of: ${gbt_accuracy*100}%1.2f\")"
   ]
  },
  {
   "cell_type": "markdown",
   "metadata": {},
   "source": [
    "### Converting the data to rdd and evaluating using MulticlassMetrics to print the confusion matrix"
   ]
  },
  {
   "cell_type": "code",
   "execution_count": 45,
   "metadata": {},
   "outputs": [
    {
     "data": {
      "text/plain": [
       "import org.apache.spark.mllib.evaluation.MulticlassMetrics\n"
      ]
     },
     "execution_count": 45,
     "metadata": {},
     "output_type": "execute_result"
    }
   ],
   "source": [
    "import org.apache.spark.mllib.evaluation.MulticlassMetrics"
   ]
  },
  {
   "cell_type": "code",
   "execution_count": 46,
   "metadata": {},
   "outputs": [
    {
     "data": {
      "text/plain": [
       "dtc_predictionAndLabel: org.apache.spark.rdd.RDD[(Double, Double)] = MapPartitionsRDD[719] at rdd at <console>:49\r\n",
       "rfc_predictionAndLabel: org.apache.spark.rdd.RDD[(Double, Double)] = MapPartitionsRDD[723] at rdd at <console>:50\r\n",
       "gbt_predictionAndLabel: org.apache.spark.rdd.RDD[(Double, Double)] = MapPartitionsRDD[727] at rdd at <console>:51\n"
      ]
     },
     "execution_count": 46,
     "metadata": {},
     "output_type": "execute_result"
    }
   ],
   "source": [
    "val dtc_predictionAndLabel = dtc_predictions.select(\"prediction\",\"PrivateInd\").as[(Double,Double)].rdd\n",
    "val rfc_predictionAndLabel = rfc_predictions.select(\"prediction\",\"PrivateInd\").as[(Double,Double)].rdd\n",
    "val gbt_predictionAndLabel = gbt_predictions.select(\"prediction\",\"PrivateInd\").as[(Double,Double)].rdd"
   ]
  },
  {
   "cell_type": "code",
   "execution_count": 47,
   "metadata": {},
   "outputs": [
    {
     "data": {
      "text/plain": [
       "dtc_metrics: org.apache.spark.mllib.evaluation.MulticlassMetrics = org.apache.spark.mllib.evaluation.MulticlassMetrics@57edf2c\r\n",
       "rfc_metrics: org.apache.spark.mllib.evaluation.MulticlassMetrics = org.apache.spark.mllib.evaluation.MulticlassMetrics@6e29b7a2\r\n",
       "gbt_metrics: org.apache.spark.mllib.evaluation.MulticlassMetrics = org.apache.spark.mllib.evaluation.MulticlassMetrics@161101c6\n"
      ]
     },
     "execution_count": 47,
     "metadata": {},
     "output_type": "execute_result"
    }
   ],
   "source": [
    "val dtc_metrics = new MulticlassMetrics(dtc_predictionAndLabel)\n",
    "val rfc_metrics = new MulticlassMetrics(rfc_predictionAndLabel)\n",
    "val gbt_metrics = new MulticlassMetrics(gbt_predictionAndLabel)"
   ]
  },
  {
   "cell_type": "markdown",
   "metadata": {},
   "source": [
    "### Printing the confusion matrix"
   ]
  },
  {
   "cell_type": "code",
   "execution_count": 50,
   "metadata": {},
   "outputs": [
    {
     "name": "stdout",
     "output_type": "stream",
     "text": [
      "184.0  9.0   \n",
      "16.0   40.0  \n"
     ]
    }
   ],
   "source": [
    "println(dtc_metrics.confusionMatrix)"
   ]
  },
  {
   "cell_type": "code",
   "execution_count": 51,
   "metadata": {},
   "outputs": [
    {
     "name": "stdout",
     "output_type": "stream",
     "text": [
      "186.0  7.0   \n",
      "11.0   45.0  \n"
     ]
    }
   ],
   "source": [
    "println(rfc_metrics.confusionMatrix)"
   ]
  },
  {
   "cell_type": "code",
   "execution_count": 52,
   "metadata": {},
   "outputs": [
    {
     "name": "stdout",
     "output_type": "stream",
     "text": [
      "183.0  10.0  \n",
      "16.0   40.0  \n"
     ]
    }
   ],
   "source": [
    "println(gbt_metrics.confusionMatrix)"
   ]
  },
  {
   "cell_type": "markdown",
   "metadata": {},
   "source": [
    "### Printing the Accuracy"
   ]
  },
  {
   "cell_type": "code",
   "execution_count": 53,
   "metadata": {},
   "outputs": [
    {
     "name": "stdout",
     "output_type": "stream",
     "text": [
      "Accuracy of DecisionTreeClassifier Model: 0.8995983935742972\n",
      "\n",
      "Accuracy of RandomForestClassifier Model: 0.927710843373494\n",
      "\n",
      "Accuracy of GBTClassifier Model: 0.8955823293172691\n"
     ]
    }
   ],
   "source": [
    "println(s\"Accuracy of DecisionTreeClassifier Model: ${dtc_metrics.accuracy}\")\n",
    "println()\n",
    "println(s\"Accuracy of RandomForestClassifier Model: ${rfc_metrics.accuracy}\")\n",
    "println()\n",
    "println(s\"Accuracy of GBTClassifier Model: ${gbt_metrics.accuracy}\")"
   ]
  },
  {
   "cell_type": "markdown",
   "metadata": {},
   "source": [
    "### Printing the Precision"
   ]
  },
  {
   "cell_type": "code",
   "execution_count": 54,
   "metadata": {},
   "outputs": [
    {
     "name": "stdout",
     "output_type": "stream",
     "text": [
      "Precision of DecisionTreeClassifier Model: 0.8995983935742972\n",
      "\n",
      "Precision of RandomForestClassifier Model: 0.927710843373494\n",
      "\n",
      "Precision of GBTClassifier Model: 0.8955823293172691\n"
     ]
    }
   ],
   "source": [
    "println(s\"Precision of DecisionTreeClassifier Model: ${dtc_metrics.precision}\")\n",
    "println()\n",
    "println(s\"Precision of RandomForestClassifier Model: ${rfc_metrics.precision}\")\n",
    "println()\n",
    "println(s\"Precision of GBTClassifier Model: ${gbt_metrics.precision}\")"
   ]
  },
  {
   "cell_type": "markdown",
   "metadata": {},
   "source": [
    "### Printing the Recall"
   ]
  },
  {
   "cell_type": "code",
   "execution_count": 55,
   "metadata": {},
   "outputs": [
    {
     "name": "stdout",
     "output_type": "stream",
     "text": [
      "Recall of DecisionTreeClassifier Model: 0.8995983935742972\n",
      "\n",
      "Recall of RandomForestClassifier Model: 0.927710843373494\n",
      "\n",
      "Recall of GBTClassifier Model: 0.8955823293172691\n"
     ]
    }
   ],
   "source": [
    "println(s\"Recall of DecisionTreeClassifier Model: ${dtc_metrics.recall}\")\n",
    "println()\n",
    "println(s\"Recall of RandomForestClassifier Model: ${rfc_metrics.recall}\")\n",
    "println()\n",
    "println(s\"Recall of GBTClassifier Model: ${gbt_metrics.recall}\")"
   ]
  },
  {
   "cell_type": "markdown",
   "metadata": {},
   "source": [
    "### Closing spark session"
   ]
  },
  {
   "cell_type": "code",
   "execution_count": 56,
   "metadata": {},
   "outputs": [],
   "source": [
    "spark.stop()"
   ]
  },
  {
   "cell_type": "markdown",
   "metadata": {},
   "source": [
    "## Thank You!"
   ]
  }
 ],
 "metadata": {
  "kernelspec": {
   "display_name": "spylon-kernel",
   "language": "scala",
   "name": "spylon-kernel"
  },
  "language_info": {
   "codemirror_mode": "text/x-scala",
   "file_extension": ".scala",
   "help_links": [
    {
     "text": "MetaKernel Magics",
     "url": "https://metakernel.readthedocs.io/en/latest/source/README.html"
    }
   ],
   "mimetype": "text/x-scala",
   "name": "scala",
   "pygments_lexer": "scala",
   "version": "0.4.1"
  }
 },
 "nbformat": 4,
 "nbformat_minor": 2
}
